{
 "cells": [
  {
   "cell_type": "code",
   "execution_count": 355,
   "id": "86a81077",
   "metadata": {},
   "outputs": [
    {
     "name": "stderr",
     "output_type": "stream",
     "text": [
      "[nltk_data] Downloading package punkt to /Users/zdrxxxi07/nltk_data...\n",
      "[nltk_data]   Package punkt is already up-to-date!\n",
      "[nltk_data] Downloading package stopwords to\n",
      "[nltk_data]     /Users/zdrxxxi07/nltk_data...\n",
      "[nltk_data]   Package stopwords is already up-to-date!\n"
     ]
    }
   ],
   "source": [
    "import pandas as pd\n",
    "df = pd.read_csv(\"df_lyrics.csv\")\n",
    "import nltk\n",
    "nltk.download('punkt')\n",
    "import re\n",
    "from nltk.corpus import stopwords\n",
    "import nltk.tokenize as nltk\n",
    "import math\n",
    "from nltk.corpus import stopwords\n",
    "import nltk\n",
    "nltk.download('stopwords')\n",
    "from tqdm.notebook import tqdm"
   ]
  },
  {
   "cell_type": "code",
   "execution_count": 356,
   "id": "842e3dca",
   "metadata": {},
   "outputs": [],
   "source": [
    "from itertools import islice\n",
    "\n",
    "def take(n, iterable):\n",
    "    return list(islice(iterable, n))\n",
    "\n",
    "def preprocessText(words):\n",
    "    stop_words = set(stopwords.words('english'))\n",
    "    # remove punctuation\n",
    "    words = re.sub(r'[^\\w\\s-]', '', words)\n",
    "    # remove numbers\n",
    "    words = re.sub(r'\\d+', '', words)\n",
    "    # tokenize\n",
    "    words = nltk.word_tokenize(words)\n",
    "    # remove stop words\n",
    "    words = [word for word in words if word not in stop_words]\n",
    "    # split hyphen words\n",
    "    final = []\n",
    "    for word in words:\n",
    "        if \"-\" in word:\n",
    "            final.extend(word.split(\"-\"))\n",
    "        elif word == '':\n",
    "            continue\n",
    "        else:\n",
    "            final.append(word)\n",
    "    return final"
   ]
  },
  {
   "cell_type": "code",
   "execution_count": 357,
   "id": "62d5a15f",
   "metadata": {},
   "outputs": [],
   "source": [
    "content = pd.read_csv(\"rap_all.csv\", encoding='unicode_escape')\n",
    "content = content.dropna()"
   ]
  },
  {
   "cell_type": "code",
   "execution_count": 361,
   "id": "4f6e1f36",
   "metadata": {},
   "outputs": [
    {
     "data": {
      "application/vnd.jupyter.widget-view+json": {
       "model_id": "290b7e33af6041c3a832e0abc75d2217",
       "version_major": 2,
       "version_minor": 0
      },
      "text/plain": [
       "0it [00:00, ?it/s]"
      ]
     },
     "metadata": {},
     "output_type": "display_data"
    }
   ],
   "source": [
    "# create rap_word dictionary\n",
    "# format: {rap_word_1: word count, rap_word_2: word count ...}\n",
    "rap_words = dict()\n",
    "for index,rapper_lyrics in tqdm(content.iterrows()):\n",
    "    l = preprocessText(rapper_lyrics[\"text\"])\n",
    "    for word in l:\n",
    "        try:\n",
    "            rap_words[word] += 1\n",
    "        except:\n",
    "            rap_words[word] = 1   "
   ]
  },
  {
   "cell_type": "code",
   "execution_count": 362,
   "id": "0ca8af52",
   "metadata": {},
   "outputs": [],
   "source": [
    "# load stop words into a list, stopwords\n",
    "stop_file = open(\"stop.txt\", \"r\")\n",
    "try:\n",
    "    c = stop_file.read()\n",
    "    my_stopwords = c.split(\",\")\n",
    "finally:\n",
    "    stop_file.close()"
   ]
  },
  {
   "cell_type": "code",
   "execution_count": 363,
   "id": "5d54919a",
   "metadata": {},
   "outputs": [],
   "source": [
    "# create updated rap_words; pop/clean stopwords again\n",
    "pop_l = list()\n",
    "for k in sort_rap_words:\n",
    "    if k.casefold() in my_stopwords:\n",
    "        pop_l.append(k)\n",
    "for w in pop_l:\n",
    "    sort_rap_words.pop(w)"
   ]
  },
  {
   "cell_type": "code",
   "execution_count": 380,
   "id": "e1b7a63a",
   "metadata": {},
   "outputs": [],
   "source": [
    "top_rap_words = take(len(sort_rap_words), sort_rap_words)"
   ]
  },
  {
   "cell_type": "code",
   "execution_count": 381,
   "id": "8574d818",
   "metadata": {},
   "outputs": [],
   "source": [
    "# rap_word occurence probability\n",
    "total_rap_words = sum([sort_rap_words[k] for k in top_rap_words])\n",
    "rap_words_probability = dict()\n",
    "for k in top_rap_words:\n",
    "    count = sort_rap_words[k]\n",
    "    rap_words_probability[k] = count/total_rap_words"
   ]
  },
  {
   "cell_type": "code",
   "execution_count": 351,
   "id": "0021ee1d",
   "metadata": {},
   "outputs": [
    {
     "name": "stdout",
     "output_type": "stream",
     "text": [
      "64228\n"
     ]
    }
   ],
   "source": [
    "import math\n",
    "\n",
    "# GOAL:\n",
    "# need to read the data file and create TFIDF vectors for queries and abstracts\n",
    "\n",
    "# format of data\n",
    "# ARTIST, SONG, LYRICS, GENRE\n",
    "\n",
    "# devote 20% of the data for testing\n",
    "# the other 80% can be for development/training\n",
    "df = pd.read_csv(\"df_lyrics.csv\")\n",
    "\n",
    "# need to shuffle the data\n",
    "df = df.sample(frac=1, random_state=42)\n",
    "# Reset the index after shuffling\n",
    "df.reset_index(drop=True, inplace=True)\n",
    "\n",
    "# then devote 20% to testing\n",
    "# Calculate the number of rows for the test set (20% of the original DataFrame)\n",
    "test_size = int(0.2 * len(df))\n",
    "\n",
    "# Take a random sample of 20% of the rows for the test set\n",
    "test_df = df.sample(n=test_size, random_state=42)\n",
    "\n",
    "# Create the training set (80% of the original DataFrame)\n",
    "train_df = df.drop(test_df.index)\n",
    "\n",
    "# Reset the index of the training and test sets\n",
    "train_df.reset_index(drop=True, inplace=True)\n",
    "test_df.reset_index(drop=True, inplace=True)\n",
    "\n",
    "print(train_df.shape[0])\n",
    "\n",
    "# 13 percent of total are the query songs\n",
    "\n",
    "# we need to separate queries and abstracts\n",
    "# 9635 is approximately 15% of the length train_df\n",
    "query_songs = train_df.head(100000)\n",
    "\n",
    "# Remove the first 9635 rows from the original DataFrame\n",
    "train_df = train_df.iloc[100000:]\n",
    "\n",
    "# Reset the index of the dataframes\n",
    "query_songs.reset_index(drop=True, inplace=True)\n",
    "train_df.reset_index(drop=True, inplace=True)"
   ]
  },
  {
   "cell_type": "code",
   "execution_count": 352,
   "id": "b7b56aee",
   "metadata": {},
   "outputs": [
    {
     "data": {
      "text/html": [
       "<div>\n",
       "<style scoped>\n",
       "    .dataframe tbody tr th:only-of-type {\n",
       "        vertical-align: middle;\n",
       "    }\n",
       "\n",
       "    .dataframe tbody tr th {\n",
       "        vertical-align: top;\n",
       "    }\n",
       "\n",
       "    .dataframe thead th {\n",
       "        text-align: right;\n",
       "    }\n",
       "</style>\n",
       "<table border=\"1\" class=\"dataframe\">\n",
       "  <thead>\n",
       "    <tr style=\"text-align: right;\">\n",
       "      <th></th>\n",
       "      <th>Artist</th>\n",
       "      <th>Song</th>\n",
       "      <th>Lyrics</th>\n",
       "      <th>Genre</th>\n",
       "    </tr>\n",
       "  </thead>\n",
       "  <tbody>\n",
       "    <tr>\n",
       "      <th>0</th>\n",
       "      <td>The Notorious B.I.G.</td>\n",
       "      <td>Playa Hater</td>\n",
       "      <td>Good evening And for my last hit, I'd like to...</td>\n",
       "      <td>Rap</td>\n",
       "    </tr>\n",
       "    <tr>\n",
       "      <th>1</th>\n",
       "      <td>Led Zeppelin</td>\n",
       "      <td>Dazed and Confused (How the West Was Won)</td>\n",
       "      <td>Oooooh, I've been dazed and confused for so l...</td>\n",
       "      <td>Rock</td>\n",
       "    </tr>\n",
       "    <tr>\n",
       "      <th>2</th>\n",
       "      <td>Otis Redding</td>\n",
       "      <td>The Glory of Love</td>\n",
       "      <td>Give a little, take a little And let your lit...</td>\n",
       "      <td>Rock</td>\n",
       "    </tr>\n",
       "    <tr>\n",
       "      <th>3</th>\n",
       "      <td>Bebe Rexha</td>\n",
       "      <td>Apples</td>\n",
       "      <td>Shoutout to Lauren cause she said it right Th...</td>\n",
       "      <td>Pop</td>\n",
       "    </tr>\n",
       "    <tr>\n",
       "      <th>4</th>\n",
       "      <td>Brian Eno</td>\n",
       "      <td>Here Come the Warm Jets</td>\n",
       "      <td>Further we make claims on our teas Dawn inner...</td>\n",
       "      <td>Rock</td>\n",
       "    </tr>\n",
       "    <tr>\n",
       "      <th>...</th>\n",
       "      <td>...</td>\n",
       "      <td>...</td>\n",
       "      <td>...</td>\n",
       "      <td>...</td>\n",
       "    </tr>\n",
       "    <tr>\n",
       "      <th>64223</th>\n",
       "      <td>Cypress Hill</td>\n",
       "      <td>Locotes</td>\n",
       "      <td>\"Hey, Ese look at these two motherfuckers rig...</td>\n",
       "      <td>Rap</td>\n",
       "    </tr>\n",
       "    <tr>\n",
       "      <th>64224</th>\n",
       "      <td>Tove Lo</td>\n",
       "      <td>Lies in the Dark</td>\n",
       "      <td>Over, over, and again Over (aah) and again Ov...</td>\n",
       "      <td>Pop</td>\n",
       "    </tr>\n",
       "    <tr>\n",
       "      <th>64225</th>\n",
       "      <td>Souls of Mischief</td>\n",
       "      <td>Dirty Ds Theme (Hoe or Die)</td>\n",
       "      <td>Artist: Souls of Mischief Album: No Man's Land...</td>\n",
       "      <td>Rap</td>\n",
       "    </tr>\n",
       "    <tr>\n",
       "      <th>64226</th>\n",
       "      <td>Usher</td>\n",
       "      <td>Stronger</td>\n",
       "      <td>Been through hell, now I'm hell proof Pouring...</td>\n",
       "      <td>Pop</td>\n",
       "    </tr>\n",
       "    <tr>\n",
       "      <th>64227</th>\n",
       "      <td>Imogen Heap</td>\n",
       "      <td>Canvas</td>\n",
       "      <td>Slow heart, dark weight Down love, black canv...</td>\n",
       "      <td>Pop</td>\n",
       "    </tr>\n",
       "  </tbody>\n",
       "</table>\n",
       "<p>64228 rows × 4 columns</p>\n",
       "</div>"
      ],
      "text/plain": [
       "                     Artist                                       Song  \\\n",
       "0      The Notorious B.I.G.                                Playa Hater   \n",
       "1              Led Zeppelin  Dazed and Confused (How the West Was Won)   \n",
       "2              Otis Redding                          The Glory of Love   \n",
       "3                Bebe Rexha                                     Apples   \n",
       "4                 Brian Eno                    Here Come the Warm Jets   \n",
       "...                     ...                                        ...   \n",
       "64223          Cypress Hill                                    Locotes   \n",
       "64224               Tove Lo                           Lies in the Dark   \n",
       "64225     Souls of Mischief                Dirty Ds Theme (Hoe or Die)   \n",
       "64226                 Usher                                   Stronger   \n",
       "64227           Imogen Heap                                     Canvas   \n",
       "\n",
       "                                                  Lyrics Genre  \n",
       "0       Good evening And for my last hit, I'd like to...   Rap  \n",
       "1       Oooooh, I've been dazed and confused for so l...  Rock  \n",
       "2       Give a little, take a little And let your lit...  Rock  \n",
       "3       Shoutout to Lauren cause she said it right Th...   Pop  \n",
       "4       Further we make claims on our teas Dawn inner...  Rock  \n",
       "...                                                  ...   ...  \n",
       "64223   \"Hey, Ese look at these two motherfuckers rig...   Rap  \n",
       "64224   Over, over, and again Over (aah) and again Ov...   Pop  \n",
       "64225  Artist: Souls of Mischief Album: No Man's Land...   Rap  \n",
       "64226   Been through hell, now I'm hell proof Pouring...   Pop  \n",
       "64227   Slow heart, dark weight Down love, black canv...   Pop  \n",
       "\n",
       "[64228 rows x 4 columns]"
      ]
     },
     "execution_count": 352,
     "metadata": {},
     "output_type": "execute_result"
    }
   ],
   "source": [
    "query_songs"
   ]
  },
  {
   "cell_type": "code",
   "execution_count": 382,
   "id": "c5386cd4",
   "metadata": {},
   "outputs": [
    {
     "data": {
      "application/vnd.jupyter.widget-view+json": {
       "model_id": "dec0eefc8d60427f9ebc39fcef5c2e3f",
       "version_major": 2,
       "version_minor": 0
      },
      "text/plain": [
       "0it [00:00, ?it/s]"
      ]
     },
     "metadata": {},
     "output_type": "display_data"
    }
   ],
   "source": [
    "# calculate average ratio of rap_word occurence\n",
    "rap_score_list = list()\n",
    "rap_df = df[df[\"Genre\"]==\"Rap\"]\n",
    "for index,song in tqdm(rap_df.iterrows()):\n",
    "    lyrics = preprocessText(song[\"Lyrics\"])\n",
    "    score = 0\n",
    "    for word in lyrics:\n",
    "        if(word in rap_words_probability.keys()):\n",
    "            score += rap_words_probability[word]\n",
    "    rap_score_list.append(score)"
   ]
  },
  {
   "cell_type": "code",
   "execution_count": 393,
   "id": "da52c98f",
   "metadata": {},
   "outputs": [],
   "source": [
    "# this will act as a threshold\n",
    "import numpy as np\n",
    "rap_score_list = np.array(rap_score_list)\n",
    "rap_score_reference = np.quantile(rap_score_list, 0.5)"
   ]
  },
  {
   "cell_type": "code",
   "execution_count": 394,
   "id": "14ef4f98",
   "metadata": {},
   "outputs": [
    {
     "data": {
      "text/plain": [
       "0.03524235984225018"
      ]
     },
     "execution_count": 394,
     "metadata": {},
     "output_type": "execute_result"
    }
   ],
   "source": [
    "rap_score_reference"
   ]
  },
  {
   "cell_type": "code",
   "execution_count": 395,
   "id": "a83c91f6",
   "metadata": {},
   "outputs": [
    {
     "data": {
      "application/vnd.jupyter.widget-view+json": {
       "model_id": "05ded36158b44d3c93eec5e5d27470dd",
       "version_major": 2,
       "version_minor": 0
      },
      "text/plain": [
       "0it [00:00, ?it/s]"
      ]
     },
     "metadata": {},
     "output_type": "display_data"
    }
   ],
   "source": [
    "# test on rap_word_score\n",
    "rap_predict_dict = dict()\n",
    "\n",
    "for index,song in tqdm(query_songs.iterrows()):\n",
    "    lyrics = preprocessText(song[\"Lyrics\"])\n",
    "    score = 0\n",
    "    for word in lyrics:\n",
    "        if(word in rap_words_probability.keys()):\n",
    "            score += rap_words_probability[word]\n",
    "    if(score >= rap_score_reference):\n",
    "        rap_predict_dict[song[\"Song\"]] = True\n",
    "    else:\n",
    "        rap_predict_dict[song[\"Song\"]] = False\n",
    "\n",
    "rap_answer = dict()\n",
    "for i in query_songs.index:\n",
    "    cur_song = query_songs.iloc[i]\n",
    "    rap_answer[cur_song[\"Song\"]] = cur_song[\"Genre\"]\n",
    "\n",
    "precision = [0,0] #[The count of True Positives, the count of false positives]\n",
    "for k in rap_predict_dict:\n",
    "    if(rap_predict_dict[k]):\n",
    "        if(rap_answer[k] == 'Rap'):\n",
    "            precision[0]+=1\n",
    "        else:\n",
    "            precision[1]+=1"
   ]
  },
  {
   "cell_type": "code",
   "execution_count": 396,
   "id": "180df4ee",
   "metadata": {},
   "outputs": [
    {
     "name": "stdout",
     "output_type": "stream",
     "text": [
      "0.7263120817189151\n",
      "8517\n"
     ]
    }
   ],
   "source": [
    "print(precision[0]/sum(precision))\n",
    "print(sum(precision))\n",
    "# precision using top 100 rap word with 75 percentile: 78% with around 4.5k\n",
    "# precision using top 100 rap word with 50 percentile: 67% with around 9.2k\n",
    "# precision using all rap word with 75 percentile: 77% with around 4k\n",
    "# precision using all rap word with 50 percentile: 72% with around 8.5k (choose this for now)"
   ]
  },
  {
   "cell_type": "code",
   "execution_count": 397,
   "id": "831e5ad5",
   "metadata": {},
   "outputs": [],
   "source": [
    "# Up until here, is only the filter using solely rap_word_probablity\n",
    "# what i did was getting a rap song database (big enough I think), \n",
    "# get the word count after applying Preprocess function\n",
    "# and based on the dictionary of {rap_word: count} \n",
    "# i calcualted each rap_word probablity within the whole distribution\n",
    "# so say the total word count is 100, and word \"shit\" appears 5 times,\n",
    "# then I will assign a probability of 0.05 to the word \"shit\"\n",
    "# later I just go through each query song and calculated the probability-score for each\n",
    "# and check if the song reach the threshold, which can be changed"
   ]
  },
  {
   "cell_type": "code",
   "execution_count": 398,
   "id": "3002a489",
   "metadata": {},
   "outputs": [],
   "source": [
    "# Start to consider from the lyrics length aspect\n",
    "def preprocessTextwithStopWords(words):\n",
    "    # remove punctuation\n",
    "    words = re.sub(r'[^\\w\\s-]', '', words)\n",
    "    # remove numbers\n",
    "    words = re.sub(r'\\d+', '', words)\n",
    "    # tokenize\n",
    "    words = nltk.word_tokenize(words)\n",
    "    # split hyphen words\n",
    "    final = []\n",
    "    for word in words:\n",
    "        if \"-\" in word:\n",
    "            final.extend(word.split(\"-\"))\n",
    "        elif word==\"\":\n",
    "            continue\n",
    "        else:\n",
    "            final.append(word)\n",
    "    return final"
   ]
  },
  {
   "cell_type": "code",
   "execution_count": 401,
   "id": "1254401c",
   "metadata": {},
   "outputs": [
    {
     "data": {
      "application/vnd.jupyter.widget-view+json": {
       "model_id": "52960c9af50f4887a83a2c8fe5f2a005",
       "version_major": 2,
       "version_minor": 0
      },
      "text/plain": [
       "0it [00:00, ?it/s]"
      ]
     },
     "metadata": {},
     "output_type": "display_data"
    }
   ],
   "source": [
    "#calculate the word count level of Rap Genre, and other genre\n",
    "rap_word_count = list()\n",
    "pop_word_count = list()\n",
    "country_word_count = list()\n",
    "rock_word_count = list()\n",
    "for index,song in tqdm(df.iterrows()):\n",
    "    lyrics = preprocessTextwithStopWords(song[\"Lyrics\"])\n",
    "    word_count = len(list(filter(lambda a: a != \"\", lyrics)))\n",
    "    if(song[\"Genre\"]==\"Rap\"):\n",
    "        rap_word_count.append(word_count)\n",
    "    elif(song[\"Genre\"]==\"Pop\"):\n",
    "        pop_word_count.append(word_count)\n",
    "    elif(song[\"Genre\"]==\"Country\"):\n",
    "        country_word_count.append(word_count)\n",
    "    else:\n",
    "        rock_word_count.append(word_count)\n",
    "\n",
    "rap_word_count = np.array(rap_word_count)\n",
    "pop_word_count = np.array(pop_word_count)\n",
    "country_word_count = np.array(country_word_count)\n",
    "rock_word_count = np.array(rock_word_count)"
   ]
  },
  {
   "cell_type": "code",
   "execution_count": 402,
   "id": "5c20d08b",
   "metadata": {
    "scrolled": true
   },
   "outputs": [
    {
     "data": {
      "image/png": "[encoded data removed]",
      "text/plain": [
       "<Figure size 432x288 with 1 Axes>"
      ]
     },
     "metadata": {
      "needs_background": "light"
     },
     "output_type": "display_data"
    }
   ],
   "source": [
    "# plot the distribution\n",
    "import matplotlib.pyplot as plt\n",
    "\n",
    "# # plotting labelled histogram\n",
    "plt.hist(rap_word_count, bins=500, label=\"Rap\", alpha = 0.4)\n",
    "plt.hist(pop_word_count, bins=500, label=\"Pop\", alpha = 0.4)\n",
    "plt.hist(country_word_count, bins=500, label=\"Country\", alpha = 0.4)\n",
    "plt.hist(rock_word_count, bins=500, label=\"Rock\", alpha = 0.4)\n",
    "plt.xlabel('Word Count per Song')\n",
    "plt.ylabel('Number of Songs')\n",
    "plt.xlim(0, 1500)\n",
    "plt.legend(loc='best')\n",
    "plt.show()"
   ]
  },
  {
   "cell_type": "code",
   "execution_count": 403,
   "id": "b5a490dd",
   "metadata": {},
   "outputs": [],
   "source": [
    "# these are the distribution of word counts per song for each genre\n",
    "# note that stopwords are included since we do not care if it is a stopword or not\n",
    "# the occurence of stopwords also is a factor from a linguistic aspect\n",
    "rap_wc_reference = np.quantile(rap_word_count, 0.5)\n",
    "pop_wc_reference = np.quantile(pop_word_count, 0.5)\n",
    "country_wc_reference = np.quantile(country_word_count, 0.5)\n",
    "rock_wc_reference = np.quantile(rock_word_count, 0.5)"
   ]
  },
  {
   "cell_type": "code",
   "execution_count": 404,
   "id": "b1a75722",
   "metadata": {},
   "outputs": [
    {
     "name": "stdout",
     "output_type": "stream",
     "text": [
      "550.0\n",
      "327.0\n",
      "214.0\n",
      "218.0\n"
     ]
    }
   ],
   "source": [
    "print(rap_wc_reference)\n",
    "print(pop_wc_reference)\n",
    "print(country_wc_reference)\n",
    "print(rock_wc_reference)"
   ]
  },
  {
   "cell_type": "code",
   "execution_count": 405,
   "id": "c1c89fd6",
   "metadata": {},
   "outputs": [],
   "source": [
    "# set rap word count threshold to 600 temporarily based on the graph\n",
    "rap_word_count_threshold = 600"
   ]
  },
  {
   "cell_type": "code",
   "execution_count": 406,
   "id": "3219d643",
   "metadata": {},
   "outputs": [
    {
     "data": {
      "application/vnd.jupyter.widget-view+json": {
       "model_id": "debeb77ae3a64020a6fb4a8a4d5903a0",
       "version_major": 2,
       "version_minor": 0
      },
      "text/plain": [
       "0it [00:00, ?it/s]"
      ]
     },
     "metadata": {},
     "output_type": "display_data"
    }
   ],
   "source": [
    "# test on lyrics length\n",
    "rap_answer\n",
    "query_word_count = dict()\n",
    "\n",
    "for index,song in tqdm(query_songs.iterrows()):\n",
    "    lyrics = preprocessTextwithStopWords(song[\"Lyrics\"])\n",
    "    word_count = len(list(filter(lambda a: a != \"\", lyrics)))\n",
    "    query_word_count[song[\"Song\"]] = word_count"
   ]
  },
  {
   "cell_type": "code",
   "execution_count": 407,
   "id": "2307a275",
   "metadata": {},
   "outputs": [
    {
     "data": {
      "application/vnd.jupyter.widget-view+json": {
       "model_id": "4addd18b4f6f496a805d784f9ba0d19e",
       "version_major": 2,
       "version_minor": 0
      },
      "text/plain": [
       "  0%|          | 0/52676 [00:00<?, ?it/s]"
      ]
     },
     "metadata": {},
     "output_type": "display_data"
    },
    {
     "name": "stdout",
     "output_type": "stream",
     "text": [
      "Most Likely Precicsion:\n",
      "0.8525004209462873\n",
      "Likely Precicsion:\n",
      "0.7141963727329581\n",
      "Neutral Precicsion:\n",
      "0.5146557600545331\n"
     ]
    }
   ],
   "source": [
    "precision_lyricslen_most_likely = [0,0] #[The count of True Positives, the count of false positives]\n",
    "precision_lyricslen_likely = [0,0] #[The count of True Positives, the count of false positives]\n",
    "precision_lyricslen_neutral = [0,0] #[The count of True Positives, the count of false positives]\n",
    "\n",
    "lyrics_len_prediction_most_likely = list()\n",
    "lyrics_len_prediction_likely = list()\n",
    "lyrics_len_prediction_neutral = list()\n",
    "\n",
    "for k in tqdm(query_word_count):\n",
    "    if(query_word_count[k] >= 600):\n",
    "        lyrics_len_prediction_most_likely.append(k)\n",
    "        if(rap_answer[k] == 'Rap'):\n",
    "            precision_lyricslen_most_likely[0]+=1\n",
    "        else:\n",
    "            precision_lyricslen_most_likely[1]+=1\n",
    "    elif(query_word_count[k] >= rap_wc_reference):\n",
    "        lyrics_len_prediction_likely.append(k)\n",
    "        if(rap_answer[k] == 'Rap'):\n",
    "            precision_lyricslen_likely[0]+=1\n",
    "        else:\n",
    "            precision_lyricslen_likely[1]+=1\n",
    "    elif(query_word_count[k] >= np.quantile(rap_word_count, 0.25)):\n",
    "        lyrics_len_prediction_neutral.append(k)\n",
    "        if(rap_answer[k] == 'Rap'):\n",
    "            precision_lyricslen_neutral[0]+=1\n",
    "        else:\n",
    "            precision_lyricslen_neutral[1]+=1\n",
    "            \n",
    "print(\"Most Likely Precicsion:\")\n",
    "print(precision_lyricslen_most_likely[0]/sum(precision_lyricslen_most_likely))\n",
    "print(\"Likely Precicsion:\")\n",
    "print(precision_lyricslen_likely[0]/sum(precision_lyricslen_likely))\n",
    "print(\"Neutral Precicsion:\")\n",
    "print(precision_lyricslen_neutral[0]/sum(precision_lyricslen_neutral))"
   ]
  },
  {
   "cell_type": "code",
   "execution_count": 408,
   "id": "5e3fb955",
   "metadata": {},
   "outputs": [
    {
     "data": {
      "text/plain": [
       "0.688124720274504"
      ]
     },
     "execution_count": 408,
     "metadata": {},
     "output_type": "execute_result"
    }
   ],
   "source": [
    "totalprecision = (precision_lyricslen_most_likely[0]+precision_lyricslen_likely[0]+precision_lyricslen_neutral[0])/(sum(precision_lyricslen_most_likely)+sum(precision_lyricslen_likely)+sum(precision_lyricslen_neutral))\n",
    "totalprecision"
   ]
  },
  {
   "cell_type": "code",
   "execution_count": 409,
   "id": "b66fc33d",
   "metadata": {},
   "outputs": [],
   "source": [
    "# Up til this point, it is only the test based on the lyrics length\n",
    "# Most Likely is any song with a word count bigger than 600\n",
    "# Likely is any song with a word count bigger than the median of my rap_word_count distribution but smaller than 600\n",
    "# Neutral is any song with a word count bigger than 25th percentile but smaller than the median of my rap_word_count distribution"
   ]
  },
  {
   "cell_type": "code",
   "execution_count": 410,
   "id": "ce062004",
   "metadata": {},
   "outputs": [
    {
     "data": {
      "application/vnd.jupyter.widget-view+json": {
       "model_id": "32a6eb6317ac49d4b830f7ff80b5d157",
       "version_major": 2,
       "version_minor": 0
      },
      "text/plain": [
       "  0%|          | 0/13406 [00:00<?, ?it/s]"
      ]
     },
     "metadata": {},
     "output_type": "display_data"
    }
   ],
   "source": [
    "# first the lyrics length count and then rap_word count method\n",
    "from scipy.stats import percentileofscore\n",
    "final_rap_predict_dict = dict()\n",
    "\n",
    "for song in tqdm(lyrics_len_prediction_most_likely+lyrics_len_prediction_likely+lyrics_len_prediction_neutral):\n",
    "    for k,s in query_songs[query_songs[\"Song\"]==song].iterrows():\n",
    "        lyrics = preprocessText(s[\"Lyrics\"])\n",
    "    lyrics = list(filter(lambda a: a != \"\", lyrics))\n",
    "    score = 0\n",
    "    for word in lyrics:\n",
    "        if(word in sort_rap_words.keys()):\n",
    "            score += sort_rap_words[word]\n",
    "    final_rap_predict_dict[song] = score\n",
    "    # so here my idea is to see what is the query song word count\n",
    "    # and where is that word count within the whole rapsong_wordcount distribution\n",
    "    # meaning compare to all rap songs what percentile can this word count reach\n",
    "    w_c_percentile = percentileofscore(rap_word_count, query_word_count[song])\n",
    "    final_rap_predict_dict[song] += (w_c_percentile/100) #standardize from say 90th percentile to 0.9\n",
    "#     if(score >= rap_score_reference):\n",
    "#         final_rap_predict_dict[song] = True\n",
    "#     else:\n",
    "#         final_rap_predict_dict[song] = False"
   ]
  },
  {
   "cell_type": "code",
   "execution_count": 411,
   "id": "13e4cf72",
   "metadata": {},
   "outputs": [],
   "source": [
    "# now this dictionary is sorted and \n",
    "# format is: {songname: word_count_percentile_score}\n",
    "final_rap_predict_dict = {k: v for k, v in sorted(final_rap_predict_dict.items(), key=lambda item: item[1], reverse=True)}"
   ]
  },
  {
   "cell_type": "code",
   "execution_count": 412,
   "id": "dab2a11b",
   "metadata": {},
   "outputs": [
    {
     "data": {
      "text/plain": [
       "0.8245125348189415"
      ]
     },
     "execution_count": 412,
     "metadata": {},
     "output_type": "execute_result"
    }
   ],
   "source": [
    "final_precision = [0,0] #[The count of True Positives, the count of false positives]\n",
    "for k in final_rap_predict_dict:\n",
    "    # right now, i choose to see if the word_count_percentile score plus the rap_word_occurence score\n",
    "    # if this sum is bigger than sum of rap_score_reference(which is the median for now) and 0.5(which 50th percentile)\n",
    "    # if so we count that as a rap song prediction\n",
    "    if(final_rap_predict_dict[k] > rap_score_reference+0.5):\n",
    "        if(rap_answer[k] == 'Rap'):\n",
    "            final_precision[0]+=1\n",
    "        else:\n",
    "            final_precision[1]+=1\n",
    "final_precision[0]/sum(final_precision)"
   ]
  },
  {
   "cell_type": "code",
   "execution_count": 413,
   "id": "f1d08d7e",
   "metadata": {},
   "outputs": [
    {
     "data": {
      "text/plain": [
       "[6216, 1323]"
      ]
     },
     "execution_count": 413,
     "metadata": {},
     "output_type": "execute_result"
    }
   ],
   "source": [
    "final_precision #[true positive counts, false positive counts]"
   ]
  },
  {
   "cell_type": "code",
   "execution_count": 415,
   "id": "171c4a22",
   "metadata": {},
   "outputs": [],
   "source": [
    "# some things to consider\n",
    "# i think as the very first step, we need to care about the volume of the prediction\n",
    "# whether we want to prediction to be as accurate as possible?\n",
    "# or do we want it to be not that accurate but filter out a decent amount?\n",
    "# for now, I value the amount a bit more, not too bad with a 82.5% precision\n",
    "# but can definitely improve\n",
    "\n",
    "# some code may not be that clear/intuitive so ask any question in the chat!"
   ]
  }
 ],
 "metadata": {
  "kernelspec": {
   "display_name": "Python 3 (ipykernel)",
   "language": "python",
   "name": "python3"
  },
  "language_info": {
   "codemirror_mode": {
    "name": "ipython",
    "version": 3
   },
   "file_extension": ".py",
   "mimetype": "text/x-python",
   "name": "python",
   "nbconvert_exporter": "python",
   "pygments_lexer": "ipython3",
   "version": "3.9.7"
  }
 },
 "nbformat": 4,
 "nbformat_minor": 5
}
